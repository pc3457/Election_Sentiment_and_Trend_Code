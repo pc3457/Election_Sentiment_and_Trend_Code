{
 "cells": [
  {
   "cell_type": "code",
   "execution_count": 1,
   "metadata": {},
   "outputs": [
    {
     "name": "stdout",
     "output_type": "stream",
     "text": [
      "Requirement already satisfied: pandas in /opt/homebrew/lib/python3.10/site-packages (2.2.3)\n",
      "Requirement already satisfied: praw in /opt/homebrew/lib/python3.10/site-packages (7.8.1)\n",
      "Requirement already satisfied: python-dotenv in /opt/homebrew/lib/python3.10/site-packages (1.0.1)\n",
      "Requirement already satisfied: numpy>=1.22.4 in /opt/homebrew/lib/python3.10/site-packages (from pandas) (2.1.3)\n",
      "Requirement already satisfied: python-dateutil>=2.8.2 in ./Library/Python/3.10/lib/python/site-packages (from pandas) (2.9.0.post0)\n",
      "Requirement already satisfied: pytz>=2020.1 in /opt/homebrew/lib/python3.10/site-packages (from pandas) (2024.2)\n",
      "Requirement already satisfied: tzdata>=2022.7 in /opt/homebrew/lib/python3.10/site-packages (from pandas) (2024.2)\n",
      "Requirement already satisfied: prawcore<3,>=2.4 in /opt/homebrew/lib/python3.10/site-packages (from praw) (2.4.0)\n",
      "Requirement already satisfied: update_checker>=0.18 in /opt/homebrew/lib/python3.10/site-packages (from praw) (0.18.0)\n",
      "Requirement already satisfied: websocket-client>=0.54.0 in /opt/homebrew/lib/python3.10/site-packages (from praw) (1.8.0)\n",
      "Requirement already satisfied: requests<3.0,>=2.6.0 in /opt/homebrew/lib/python3.10/site-packages (from prawcore<3,>=2.4->praw) (2.32.3)\n",
      "Requirement already satisfied: six>=1.5 in ./Library/Python/3.10/lib/python/site-packages (from python-dateutil>=2.8.2->pandas) (1.16.0)\n",
      "Requirement already satisfied: charset-normalizer<4,>=2 in /opt/homebrew/lib/python3.10/site-packages (from requests<3.0,>=2.6.0->prawcore<3,>=2.4->praw) (3.4.0)\n",
      "Requirement already satisfied: idna<4,>=2.5 in /opt/homebrew/lib/python3.10/site-packages (from requests<3.0,>=2.6.0->prawcore<3,>=2.4->praw) (3.10)\n",
      "Requirement already satisfied: urllib3<3,>=1.21.1 in /opt/homebrew/lib/python3.10/site-packages (from requests<3.0,>=2.6.0->prawcore<3,>=2.4->praw) (2.2.3)\n",
      "Requirement already satisfied: certifi>=2017.4.17 in /opt/homebrew/lib/python3.10/site-packages (from requests<3.0,>=2.6.0->prawcore<3,>=2.4->praw) (2024.8.30)\n",
      "\n",
      "\u001b[1m[\u001b[0m\u001b[34;49mnotice\u001b[0m\u001b[1;39;49m]\u001b[0m\u001b[39;49m A new release of pip is available: \u001b[0m\u001b[31;49m24.2\u001b[0m\u001b[39;49m -> \u001b[0m\u001b[32;49m24.3.1\u001b[0m\n",
      "\u001b[1m[\u001b[0m\u001b[34;49mnotice\u001b[0m\u001b[1;39;49m]\u001b[0m\u001b[39;49m To update, run: \u001b[0m\u001b[32;49mpython3.10 -m pip install --upgrade pip\u001b[0m\n",
      "Note: you may need to restart the kernel to use updated packages.\n"
     ]
    }
   ],
   "source": [
    "pip install pandas praw python-dotenv"
   ]
  },
  {
   "cell_type": "code",
   "execution_count": 2,
   "metadata": {},
   "outputs": [],
   "source": [
    "import pandas as pd\n",
    "import praw\n",
    "from dotenv import load_dotenv\n",
    "import os\n"
   ]
  },
  {
   "cell_type": "code",
   "execution_count": 3,
   "metadata": {},
   "outputs": [],
   "source": [
    "load_dotenv()\n",
    "secret_key = os.getenv('SECRET_KEY')\n",
    "reddit = praw.Reddit(\n",
    "    client_id=\"7hrh1y-tiTPJ7dWM5LBBmA\",\n",
    "    client_secret=\"S2NityFUj65coY6reHPQNIaViJgLrA\",\n",
    "    password=secret_key,\n",
    "    user_agent=\"testscript by u/stealthpotato02\",\n",
    "    username=\"stealthpotato02\",\n",
    ")"
   ]
  },
  {
   "cell_type": "code",
   "execution_count": 4,
   "metadata": {},
   "outputs": [
    {
     "name": "stdout",
     "output_type": "stream",
     "text": [
      "stealthpotato02\n"
     ]
    }
   ],
   "source": [
    "print(reddit.user.me())\n"
   ]
  },
  {
   "cell_type": "code",
   "execution_count": 61,
   "metadata": {},
   "outputs": [
    {
     "name": "stdout",
     "output_type": "stream",
     "text": [
      "Appended 904 new posts to reddit_posts.csv.\n"
     ]
    }
   ],
   "source": [
    "import requests\n",
    "from datetime import datetime\n",
    "import praw\n",
    "\n",
    "# Initialize praw with your credentials\n",
    "reddit = praw.Reddit(\n",
    "    client_id=\"7hrh1y-tiTPJ7dWM5LBBmA\",\n",
    "    client_secret=\"S2NityFUj65coY6reHPQNIaViJgLrA\",\n",
    "    password=secret_key,\n",
    "    user_agent=\"testscript by u/stealthpotato02\",\n",
    "    username=\"stealthpotato02\",\n",
    ")\n",
    "\n",
    "# CSV file path\n",
    "csv_file = '~/Downloads/data/headlines.csv'\n",
    "\n",
    "# Load existing data (if any)\n",
    "try:\n",
    "    existing_df = pd.read_csv(csv_file)\n",
    "    existing_ids = set(existing_df['id'])\n",
    "except FileNotFoundError:\n",
    "    existing_df = pd.DataFrame()\n",
    "    existing_ids = set()\n",
    "\n",
    "# List of subreddits to go through\n",
    "subreddits = [\n",
    "    'PoliticalDebate', 'PoliticalDiscussion', 'fivethirtyeight', \n",
    "    'Ask_Politics', 'politics', 'democrats', 'Republican', 'PoliticalHumor'\n",
    "]\n",
    "\n",
    "data = []\n",
    "\n",
    "# Loop through each subreddit and collect posts\n",
    "for subreddit_name in subreddits:\n",
    "    for submission in reddit.subreddit(subreddit_name).top(limit=1000):  # Adjust limit if needed\n",
    "        if submission.id not in existing_ids:  # Only add new posts\n",
    "            post_created_utc = datetime.utcfromtimestamp(submission.created_utc).strftime('%Y-%m-%d %H:%M:%S')\n",
    "            author_name = str(submission.author) if submission.author else None\n",
    "            data.append({\n",
    "                'title': submission.title,\n",
    "                'id': submission.id,\n",
    "                'author': author_name,\n",
    "                'score': submission.score,\n",
    "                'upvote_ratio': submission.upvote_ratio,\n",
    "                'num_comments': submission.num_comments,\n",
    "                'created_utc': post_created_utc,\n",
    "                'subreddit': subreddit_name,  # Specify the subreddit name\n",
    "                'link_flair_text': submission.link_flair_text,\n",
    "                'num_crossposts': submission.num_crossposts,\n",
    "                'distinguished': submission.distinguished,\n",
    "                'stickied': submission.stickied,\n",
    "                'is_self': submission.is_self,\n",
    "                'over_18': submission.over_18,\n",
    "                'url': submission.url,\n",
    "                'text': submission.selftext\n",
    "            })\n",
    "\n",
    "# Create a new DataFrame for new posts\n",
    "new_df = pd.DataFrame(data)\n",
    "\n",
    "# Append new posts to existing DataFrame and save to CSV\n",
    "if not new_df.empty:\n",
    "    combined_df = pd.concat([existing_df, new_df], ignore_index=True)\n",
    "    combined_df.to_csv(os.path.expanduser('~/Downloads/data/headlines.csv'), index=False)\n",
    "    print(f\"Appended {len(new_df)} new posts to {csv_file}.\")\n",
    "else:\n",
    "    print(\"No new posts found.\")\n"
   ]
  },
  {
   "cell_type": "code",
   "execution_count": 62,
   "metadata": {},
   "outputs": [
    {
     "data": {
      "text/plain": [
       "<bound method DataFrame.info of                                                   title       id  \\\n",
       "0     What will trump accomplish in his first 100 da...  1gls8p9   \n",
       "1     Do you think Tim Walz at the top of the ticket...  1gla2e8   \n",
       "2     What do you hope Democrats learn from this ele...  1glfiry   \n",
       "3                                Supreme Court Justices  1gl0tb4   \n",
       "4     How will international politics be affected by...  1gkv88t   \n",
       "...                                                 ...      ...   \n",
       "6097                    DE-EVOLUTION (by David Hubbard)  1gafrgp   \n",
       "6098  Trump’s staged photo op at McDonald’s is not g...  1g94i6a   \n",
       "6099             Especially since Elon's gone full MAGA  1g4lg3w   \n",
       "6100                Expound on ”they“ — we’re waiting.   1g34nu9   \n",
       "6101  An outbreak of E. coli and Salmonella is curre...  1g063kd   \n",
       "\n",
       "                 author  score  upvote_ratio  num_comments  \\\n",
       "0             Visco0825    189          0.81           844   \n",
       "1       EnrichVonEnrich      0          0.38            52   \n",
       "2         fellow-fellow     90          0.81           785   \n",
       "3          Ok_Wash_5664     19          0.91            49   \n",
       "4              farseer4      2          0.75            10   \n",
       "...                 ...    ...           ...           ...   \n",
       "6097  Positive_Owl_2024     18          0.95             0   \n",
       "6098       dellaazeem22  12204          0.95           322   \n",
       "6099         ew_modemac   1452          0.98            46   \n",
       "6100        Bueno_Times   2426          0.99            48   \n",
       "6101            h20poIo  14308          0.95          1278   \n",
       "\n",
       "              created_utc            subreddit         link_flair_text  \\\n",
       "0     2024-11-07 14:53:05  PoliticalDiscussion             US Politics   \n",
       "1     2024-11-06 21:45:46  PoliticalDiscussion            US Elections   \n",
       "2     2024-11-07 01:56:58  PoliticalDiscussion            US Elections   \n",
       "3     2024-11-06 15:15:58  PoliticalDiscussion            Legal/Courts   \n",
       "4     2024-11-06 10:11:26  PoliticalDiscussion  International Politics   \n",
       "...                   ...                  ...                     ...   \n",
       "6097  2024-10-23 17:07:21       PoliticalHumor                    None   \n",
       "6098  2024-10-21 23:50:39       PoliticalHumor                    None   \n",
       "6099  2024-10-15 23:23:29       PoliticalHumor                    None   \n",
       "6100  2024-10-14 01:09:16       PoliticalHumor                    None   \n",
       "6101  2024-10-10 00:07:41       PoliticalHumor                    None   \n",
       "\n",
       "      num_crossposts distinguished  stickied  is_self  over_18  \\\n",
       "0                  0           NaN     False     True    False   \n",
       "1                  0           NaN     False     True    False   \n",
       "2                  0           NaN     False     True    False   \n",
       "3                  0           NaN     False     True    False   \n",
       "4                  0           NaN     False     True    False   \n",
       "...              ...           ...       ...      ...      ...   \n",
       "6097               0          None     False    False    False   \n",
       "6098               3          None     False    False    False   \n",
       "6099               0          None     False    False    False   \n",
       "6100               0          None     False    False    False   \n",
       "6101               3          None     False    False    False   \n",
       "\n",
       "                                                    url  \n",
       "0     https://www.reddit.com/r/PoliticalDiscussion/c...  \n",
       "1     https://www.reddit.com/r/PoliticalDiscussion/c...  \n",
       "2     https://www.reddit.com/r/PoliticalDiscussion/c...  \n",
       "3     https://www.reddit.com/r/PoliticalDiscussion/c...  \n",
       "4     https://www.reddit.com/r/PoliticalDiscussion/c...  \n",
       "...                                                 ...  \n",
       "6097               https://i.redd.it/6wahq2ksfjwd1.jpeg  \n",
       "6098               https://i.redd.it/r6y42d4x57wd1.jpeg  \n",
       "6099               https://i.redd.it/7cq7jfql70vd1.jpeg  \n",
       "6100               https://i.redd.it/98o5mbpngmud1.jpeg  \n",
       "6101               https://i.redd.it/i1u61vv0mttd1.jpeg  \n",
       "\n",
       "[6102 rows x 15 columns]>"
      ]
     },
     "execution_count": 62,
     "metadata": {},
     "output_type": "execute_result"
    }
   ],
   "source": [
    "combined_df.info"
   ]
  }
 ],
 "metadata": {
  "kernelspec": {
   "display_name": "py310",
   "language": "python",
   "name": "python3"
  },
  "language_info": {
   "codemirror_mode": {
    "name": "ipython",
    "version": 3
   },
   "file_extension": ".py",
   "mimetype": "text/x-python",
   "name": "python",
   "nbconvert_exporter": "python",
   "pygments_lexer": "ipython3",
   "version": "3.10.15"
  }
 },
 "nbformat": 4,
 "nbformat_minor": 2
}
